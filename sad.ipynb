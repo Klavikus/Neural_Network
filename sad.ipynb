{
 "cells": [
  {
   "cell_type": "code",
   "execution_count": 78,
   "metadata": {},
   "outputs": [
    {
     "name": "stdout",
     "output_type": "stream",
     "text": [
      "['CHEBUREK_class', 'KEK_class', 'LOL_class']\n",
      "['svekla_0_45.jpeg']\n",
      "svekla_0_45.0\n",
      "0\n",
      "1\n",
      "['download.jpeg', 'morkov.png']\n",
      "download.0\n",
      "0\n",
      "1\n",
      "morkov0\n",
      "0\n",
      "1\n",
      "['morkov_0_1624._0_2577.jpeg', 'potato_0_62._0_6836.jpg']\n",
      "morkov_0_1624._0_2577.0\n",
      "0\n",
      "1\n",
      "potato_0_62._0_68360\n",
      "0\n",
      "1\n"
     ]
    }
   ],
   "source": [
    "from keras.preprocessing.image import ImageDataGenerator, array_to_img, img_to_array, load_img\n",
    "import os, glob\n",
    "\n",
    "datagen = ImageDataGenerator(rotation_range=360,\n",
    "                             width_shift_range=0.2,\n",
    "                             height_shift_range=0.2,\n",
    "                             shear_range=0.2,\n",
    "                             zoom_range=0.2,\n",
    "                             horizontal_flip=True,\n",
    "                             fill_mode='nearest')\n",
    "dir_list = os.listdir(path='test')\n",
    "class_list = []\n",
    "for file in dir_list:\n",
    "    if file.endswith(\"_class\"):\n",
    "        class_list.append(file)\n",
    "print(class_list)\n",
    "#for folder in class_list:\n",
    "#    img_aug(folder_path=\"test/out/\"+folder)\n",
    "def img_aug(file_ends=[\".jpg\",\".jpeg\", \".png\"], folder_path=\"test/\", save_format='jpeg', class_path=None, img_count=1):\n",
    "    dir_list = os.listdir(path=class_path)\n",
    "    img_list = []\n",
    "    for file in dir_list:\n",
    "        for end in file_ends:\n",
    "            if file.endswith(end):\n",
    "                img_list.append(file) \n",
    "    print(img_list)\n",
    "    for img in img_list:\n",
    "        img_t = load_img(class_path + \"/\" + img)\n",
    "        x = img_to_array(img_t)  # this is a Numpy array with shape (3, 150, 150)\n",
    "        x = x.reshape((1,) + x.shape)  # this is a Numpy array with shape (1, 3, 150, 150)\n",
    "\n",
    "# the .flow() command below generates batches of randomly transformed images\n",
    "# and saves the results to the `preview/` directory\n",
    "        if not os.path.exists(folder_path):\n",
    "            os.mkdir(os.path.join(folder_path))\n",
    "        i = 0\n",
    "        print(img[:-4] + str(i))\n",
    "        for batch in datagen.flow(x, batch_size=1,\n",
    "                                  save_to_dir=folder_path, \n",
    "                                  save_prefix= img[:-4] , \n",
    "                                  save_format=save_format):\n",
    "            print(i)\n",
    "            i += 1\n",
    "            if i > img_count:\n",
    "                break  # otherwise the generator would loop indefinitely\n",
    "for folder in class_list:\n",
    "    img_aug(class_path=\"test/\" + folder,folder_path=\"test/control/\"+ folder + \"/\")"
   ]
  },
  {
   "cell_type": "code",
   "execution_count": 79,
   "metadata": {},
   "outputs": [],
   "source": [
    "from tensorflow.python.keras.preprocessing.image import ImageDataGenerator\n",
    "from tensorflow.python.keras.models import Sequential\n",
    "from tensorflow.python.keras.layers import Conv2D, MaxPooling2D\n",
    "from tensorflow.python.keras.layers import Activation, Dropout, Flatten, Dense\n"
   ]
  },
  {
   "cell_type": "code",
   "execution_count": 80,
   "metadata": {},
   "outputs": [
    {
     "name": "stdout",
     "output_type": "stream",
     "text": [
      "Found 26 images belonging to 3 classes.\n",
      "Found 26 images belonging to 3 classes.\n"
     ]
    }
   ],
   "source": [
    "train_datagen = ImageDataGenerator(\n",
    "        rescale=1./255,\n",
    "        shear_range=0.2,\n",
    "        zoom_range=0.2,\n",
    "        horizontal_flip=True)\n",
    "\n",
    "test_datagen = ImageDataGenerator(rescale=1./255)\n",
    "\n",
    "train_generator = train_datagen.flow_from_directory(\n",
    "        'test/control',\n",
    "        target_size=(150, 150),\n",
    "        batch_size=3,\n",
    "        class_mode='categorical')\n",
    "\n",
    "validation_generator = test_datagen.flow_from_directory(\n",
    "        'test/control',\n",
    "        target_size=(150, 150),\n",
    "        batch_size=3,\n",
    "        class_mode='categorical')\n",
    "\n"
   ]
  },
  {
   "cell_type": "code",
   "execution_count": 81,
   "metadata": {},
   "outputs": [
    {
     "name": "stdout",
     "output_type": "stream",
     "text": [
      "Epoch 1/5\n",
      "100/100 [==============================] - 6s 55ms/step - loss: 1.4587 - acc: 0.6500 - val_loss: 0.4552 - val_acc: 0.7917\n",
      "Epoch 2/5\n",
      "100/100 [==============================] - 4s 42ms/step - loss: 0.3971 - acc: 0.8033 - val_loss: 0.1911 - val_acc: 0.9583\n",
      "Epoch 3/5\n",
      "100/100 [==============================] - 4s 42ms/step - loss: 0.3377 - acc: 0.8767 - val_loss: 0.1165 - val_acc: 0.9167s:\n",
      "Epoch 4/5\n",
      "100/100 [==============================] - 5s 45ms/step - loss: 0.2013 - acc: 0.9217 - val_loss: 0.0640 - val_acc: 1.0000\n",
      "Epoch 5/5\n",
      "100/100 [==============================] - 4s 43ms/step - loss: 0.1149 - acc: 0.9550 - val_loss: 0.0714 - val_acc: 1.0000\n",
      "Аккуратность на тестовых данных: 100.00%\n"
     ]
    }
   ],
   "source": [
    "model = Sequential()\n",
    "model.add(Conv2D(32, (3, 3), input_shape=(150, 150, 3)))\n",
    "model.add(Activation('relu'))\n",
    "model.add(MaxPooling2D(pool_size=(2, 2)))\n",
    "\n",
    "\n",
    "model.add(Conv2D(64, (3, 3)))\n",
    "model.add(Activation('relu'))\n",
    "model.add(MaxPooling2D(pool_size=(2, 2)))\n",
    "\n",
    "model.add(Flatten())\n",
    "model.add(Dense(64))\n",
    "model.add(Activation('relu'))\n",
    "model.add(Dropout(0.5))\n",
    "model.add(Dense(3))\n",
    "model.add(Activation('softmax'))\n",
    "\n",
    "model.compile(loss='categorical_crossentropy',\n",
    "              optimizer='adam',\n",
    "              metrics=['accuracy'])\n",
    "\n",
    "# Размер мини-выборки\n",
    "batch_size = 3\n",
    "# Количество изображений для обучения\n",
    "nb_train_samples = 30\n",
    "# Количество изображений для проверки\n",
    "nb_validation_samples = 6\n",
    "# Количество изображений для тестирования\n",
    "nb_test_samples = 6\n",
    "model.fit_generator(\n",
    "        train_generator,\n",
    "        steps_per_epoch=600//2//3,\n",
    "        epochs=5,\n",
    "        validation_data=validation_generator,\n",
    "        validation_steps=8)\n",
    "\n",
    "scores = model.evaluate_generator(validation_generator, nb_test_samples // batch_size)\n",
    "print(\"Аккуратность на тестовых данных: %.2f%%\" % (scores[1]*100))\n"
   ]
  },
  {
   "cell_type": "code",
   "execution_count": 82,
   "metadata": {},
   "outputs": [
    {
     "name": "stdout",
     "output_type": "stream",
     "text": [
      "[[4.9096829e-15 1.0000000e+00 2.8834136e-12]]\n"
     ]
    }
   ],
   "source": [
    "img = load_img('test/morkov.jpg')  # this is a PIL image\n",
    "img = img.resize((150,150))\n",
    "x = img_to_array(img)  # this is a Numpy array with shape (3, 150, 150)\n",
    "x = x.reshape((1,) + x.shape)  # this is a Numpy array with shape (1, 3, 150, 150)\n",
    "x = x/255\n",
    "h = model.predict(x)\n",
    "print(h)"
   ]
  },
  {
   "cell_type": "code",
   "execution_count": 6,
   "metadata": {},
   "outputs": [],
   "source": [
    "import os"
   ]
  },
  {
   "cell_type": "code",
   "execution_count": 7,
   "metadata": {},
   "outputs": [
    {
     "ename": "OSError",
     "evalue": "[WinError 123] Синтаксическая ошибка в имени файла, имени папки или метке тома: '\\test'",
     "output_type": "error",
     "traceback": [
      "\u001b[1;31m---------------------------------------------------------------------------\u001b[0m",
      "\u001b[1;31mOSError\u001b[0m                                   Traceback (most recent call last)",
      "\u001b[1;32m<ipython-input-7-a0615ca66efe>\u001b[0m in \u001b[0;36m<module>\u001b[1;34m\u001b[0m\n\u001b[1;32m----> 1\u001b[1;33m \u001b[0mos\u001b[0m\u001b[1;33m.\u001b[0m\u001b[0mlistdir\u001b[0m\u001b[1;33m(\u001b[0m\u001b[0mpath\u001b[0m\u001b[1;33m=\u001b[0m\u001b[1;34m'\\test'\u001b[0m\u001b[1;33m)\u001b[0m\u001b[1;33m\u001b[0m\u001b[1;33m\u001b[0m\u001b[0m\n\u001b[0m",
      "\u001b[1;31mOSError\u001b[0m: [WinError 123] Синтаксическая ошибка в имени файла, имени папки или метке тома: '\\test'"
     ]
    }
   ],
   "source": [
    "os.listdir(path='\\test')"
   ]
  },
  {
   "cell_type": "code",
   "execution_count": 8,
   "metadata": {},
   "outputs": [
    {
     "data": {
      "text/plain": [
       "['cabbage', 'carrot', 'download.jpg', 'morkov.jpg', 'potato', 'svekla']"
      ]
     },
     "execution_count": 8,
     "metadata": {},
     "output_type": "execute_result"
    }
   ],
   "source": [
    "os.listdir(path='test')"
   ]
  },
  {
   "cell_type": "code",
   "execution_count": null,
   "metadata": {},
   "outputs": [],
   "source": []
  }
 ],
 "metadata": {
  "kernelspec": {
   "display_name": "Python 3",
   "language": "python",
   "name": "python3"
  },
  "language_info": {
   "codemirror_mode": {
    "name": "ipython",
    "version": 3
   },
   "file_extension": ".py",
   "mimetype": "text/x-python",
   "name": "python",
   "nbconvert_exporter": "python",
   "pygments_lexer": "ipython3",
   "version": "3.6.7"
  }
 },
 "nbformat": 4,
 "nbformat_minor": 2
}
