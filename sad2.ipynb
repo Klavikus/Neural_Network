{
 "cells": [
  {
   "cell_type": "code",
   "execution_count": 2,
   "metadata": {},
   "outputs": [],
   "source": [
    "from keras.preprocessing.image import ImageDataGenerator, array_to_img, img_to_array, load_img\n",
    "import os, glob\n",
    "import matplotlib.pyplot as plt\n",
    "\n",
    "def img_aug(file_ends = [\".jpg\",\".jpeg\", \".png\"],\n",
    "            save_format = 'jpeg',\n",
    "            img_count = 1,\n",
    "            verbose = 1,\n",
    "            root_dir = \"data_augment/\",\n",
    "            save_dir = \"control/\"):\n",
    "    \n",
    "    # image generator\n",
    "    datagen = ImageDataGenerator(rotation_range=30,\n",
    "                                 width_shift_range=0.2,\n",
    "                                 height_shift_range=0.2, \n",
    "                                 #shear_range=0.2,\n",
    "                                 zoom_range=0.2,\n",
    "                                 horizontal_flip=False,\n",
    "                                 fill_mode='constant')\n",
    "\n",
    "    # list of content in root_dir\n",
    "    dir_list = os.listdir(path = root_dir)\n",
    "\n",
    "    # creating list of classes\n",
    "    class_list = []\n",
    "    \n",
    "    for file in dir_list:\n",
    "        if file.endswith(\"_class\"):\n",
    "            class_list.append(file)\n",
    "\n",
    "    # debug (verbose 1)\n",
    "    if verbose == 2:\n",
    "        print(\"class_list contain: {}\".format(class_list))\n",
    "    \n",
    "    # processing each class_folder in class_list\n",
    "    for class_folder in class_list:\n",
    "        \n",
    "        # path to resulting folder for image\n",
    "        folder_path=root_dir+save_dir+ class_folder + \"/\"\n",
    "        \n",
    "        if not os.path.exists(root_dir+save_dir):\n",
    "            os.mkdir(os.path.join(root_dir+save_dir))\n",
    "        \n",
    "        # list of images in class folder\n",
    "        dir_list = os.listdir(path = root_dir + class_folder)\n",
    "        img_list = []\n",
    "        for file in dir_list:\n",
    "            for end in file_ends:\n",
    "                if file.endswith(end):\n",
    "                    img_list.append(file)\n",
    "        \n",
    "        # debug (verbose 1)\n",
    "        if verbose == 2:\n",
    "            print(img_list)\n",
    "            \n",
    "        # processing each image in img_list\n",
    "        for img in img_list:\n",
    "            x = load_img(root_dir + class_folder + \"/\" + img)\n",
    "            x = x.resize((300,300))\n",
    "            x = img_to_array(x)  # this is a Numpy array with shape (3, ~ , ~)\n",
    "            x = x.reshape((1,) + x.shape)  # this is a Numpy array with shape (1, 3, ~ , ~ )\n",
    "            \n",
    "            # check folder path\n",
    "            if not os.path.exists(folder_path):\n",
    "                os.mkdir(os.path.join(folder_path))\n",
    "            \n",
    "            # the .flow() command below generates batches of randomly transformed images\n",
    "            # and saves the results to the `folder_path` directory\n",
    "            i = 0\n",
    "            for batch in datagen.flow(x, batch_size=1,\n",
    "                                      save_to_dir=folder_path, \n",
    "                                      save_prefix= img[:-4] , \n",
    "                                      save_format=save_format):\n",
    "                if verbose == 2:\n",
    "                    print(i)\n",
    "                i += 1\n",
    "                if i > img_count:\n",
    "                    break  # otherwise the generator would loop indefinitely\n",
    "        if verbose == 1:\n",
    "            print(\"{} augment done.\".format(class_folder))\n",
    "\n",
    "            \n",
    "def print_plt(history = None):\n",
    "    # построить график изменения верности\n",
    "    plt.plot(history.history['acc'])\n",
    "    plt.plot(history.history['val_acc'])\n",
    "    plt.title('model accuracy')\n",
    "    plt.ylabel('accuracy')\n",
    "    plt.xlabel('epoch')\n",
    "    plt.legend(['train', 'test'], loc='upper left')\n",
    "    plt.show()\n",
    "    # построить график изменения потери\n",
    "    plt.plot(history.history['loss'])\n",
    "    plt.plot(history.history['val_loss'])\n",
    "    plt.title('model loss')\n",
    "    plt.ylabel('loss')\n",
    "    plt.xlabel('epoch')\n",
    "    plt.legend(['train', 'test'], loc='upper left')\n",
    "    plt.show()\n",
    "\n",
    "def img_pred(file_end=[\".jpeg\", \".png\", \"jpg\"], path_pred=\"npi_aug/\", class_list = None):\n",
    "    if class_list == None:\n",
    "        print(\"class_list = None\")\n",
    "    else:\n",
    "        list_file = os.listdir(path_pred)\n",
    "        list_img = []\n",
    "        for file in list_file:\n",
    "            for end in file_end:\n",
    "                if file.endswith(end):\n",
    "                    list_img.append(file)\n",
    "        for file in list_img:       \n",
    "            img = load_img(path_pred + file)  # this is a PIL image\n",
    "            img = img.resize((300,300))\n",
    "            x = img_to_array(img)  # this is a Numpy array with shape (3, 150, 150)\n",
    "            x = x.reshape((1,) + x.shape)  # this is a Numpy array with shape (1, 3, 150, 150)\n",
    "            x = x/255\n",
    "            h = model.predict_classes(x) \n",
    "            z = model.predict(x)\n",
    "            #print(str(class_[h[0]]) + \" {:.4f} {:.4f} {:.4f}\".format(z[0][0], z[0][1], z[0][2]))\n",
    "            print(file + \" \" + str(class_[h[0]]) + \" {:.2f}%\".format(z[0][h[0]]*100))\n",
    "            #print(z)\n",
    "            #print((z[0][0]))"
   ]
  },
  {
   "cell_type": "code",
   "execution_count": 38,
   "metadata": {},
   "outputs": [
    {
     "name": "stdout",
     "output_type": "stream",
     "text": [
      "sitnikov_class augment done.\n",
      "krotov_class augment done.\n",
      "yakovenko_class augment done.\n",
      "Oleg_class augment done.\n",
      "misha_class augment done.\n",
      "natasha_class augment done.\n"
     ]
    }
   ],
   "source": [
    "img_aug(img_count = 100,\n",
    "        verbose = 1,\n",
    "        root_dir = \"npi_aug/\",\n",
    "        save_dir = \"result/\")"
   ]
  },
  {
   "cell_type": "code",
   "execution_count": 39,
   "metadata": {},
   "outputs": [
    {
     "name": "stdout",
     "output_type": "stream",
     "text": [
      "sitnikov_class augment done.\n",
      "krotov_class augment done.\n",
      "yakovenko_class augment done.\n",
      "Oleg_class augment done.\n",
      "misha_class augment done.\n",
      "natasha_class augment done.\n"
     ]
    }
   ],
   "source": [
    "img_aug(img_count = 100,\n",
    "        verbose = 1,\n",
    "        root_dir = \"npi_aug/for_test/\",\n",
    "        save_dir = \"result/\")"
   ]
  },
  {
   "cell_type": "code",
   "execution_count": 3,
   "metadata": {},
   "outputs": [],
   "source": [
    "from keras.preprocessing.image import ImageDataGenerator, array_to_img, img_to_array, load_img\n",
    "from tensorflow.python.keras.models import Sequential\n",
    "from tensorflow.python.keras.layers import Conv2D, MaxPooling2D\n",
    "from tensorflow.python.keras.layers import Activation, Dropout, Flatten, Dense\n",
    "import numpy as np\n",
    "import os, glob\n",
    "import matplotlib.pyplot as plt"
   ]
  },
  {
   "cell_type": "code",
   "execution_count": 4,
   "metadata": {},
   "outputs": [
    {
     "name": "stdout",
     "output_type": "stream",
     "text": [
      "Found 1811 images belonging to 6 classes.\n",
      "Found 1200 images belonging to 6 classes.\n"
     ]
    }
   ],
   "source": [
    "train_datagen = ImageDataGenerator(rescale=1./255)\n",
    "\n",
    "test_datagen = ImageDataGenerator(rescale=1./255)\n",
    "\n",
    "train_generator = train_datagen.flow_from_directory(\n",
    "        'npi_aug/result',\n",
    "        target_size=(300, 300),\n",
    "        batch_size=30,\n",
    "        class_mode='categorical')\n",
    "\n",
    "validation_generator = test_datagen.flow_from_directory(\n",
    "        'npi_aug/for_test/result',\n",
    "        target_size=(300, 300),\n",
    "        batch_size=30,\n",
    "        class_mode='categorical')\n"
   ]
  },
  {
   "cell_type": "code",
   "execution_count": 7,
   "metadata": {},
   "outputs": [
    {
     "name": "stdout",
     "output_type": "stream",
     "text": [
      "Epoch 1/15\n",
      "30/30 [==============================] - 7s 224ms/step - loss: 12.7512 - acc: 0.1767 - val_loss: 12.8945 - val_acc: 0.2000\n",
      "Epoch 2/15\n",
      "30/30 [==============================] - 5s 165ms/step - loss: 12.6321 - acc: 0.1809 - val_loss: 7.8951 - val_acc: 0.1667\n",
      "Epoch 3/15\n",
      "30/30 [==============================] - 5s 169ms/step - loss: 4.6189 - acc: 0.2389 - val_loss: 1.8089 - val_acc: 0.2111\n",
      "Epoch 4/15\n",
      "30/30 [==============================] - 5s 163ms/step - loss: 1.7437 - acc: 0.2813 - val_loss: 1.7973 - val_acc: 0.2111\n",
      "Epoch 5/15\n",
      "30/30 [==============================] - 5s 168ms/step - loss: 1.6011 - acc: 0.3388 - val_loss: 1.9170 - val_acc: 0.2222\n",
      "Epoch 6/15\n",
      "30/30 [==============================] - 5s 170ms/step - loss: 1.4643 - acc: 0.3956 - val_loss: 2.1268 - val_acc: 0.2778\n",
      "Epoch 7/15\n",
      "30/30 [==============================] - 5s 173ms/step - loss: 1.2947 - acc: 0.4644 - val_loss: 2.3216 - val_acc: 0.3111\n",
      "Epoch 8/15\n",
      "30/30 [==============================] - 5s 175ms/step - loss: 1.1703 - acc: 0.5500 - val_loss: 2.5093 - val_acc: 0.3444\n",
      "Epoch 9/15\n",
      "30/30 [==============================] - 5s 170ms/step - loss: 1.0349 - acc: 0.6086 - val_loss: 2.6148 - val_acc: 0.3667\n",
      "Epoch 10/15\n",
      "30/30 [==============================] - 5s 170ms/step - loss: 1.0214 - acc: 0.6023 - val_loss: 2.6370 - val_acc: 0.3778\n",
      "Epoch 11/15\n",
      "30/30 [==============================] - 5s 176ms/step - loss: 0.8643 - acc: 0.6956 - val_loss: 2.7644 - val_acc: 0.3556\n",
      "Epoch 12/15\n",
      "30/30 [==============================] - 5s 169ms/step - loss: 0.8842 - acc: 0.6742 - val_loss: 2.8042 - val_acc: 0.3667\n",
      "Epoch 13/15\n",
      "30/30 [==============================] - 5s 175ms/step - loss: 0.7855 - acc: 0.7322 - val_loss: 2.8639 - val_acc: 0.3444\n",
      "Epoch 14/15\n",
      "30/30 [==============================] - 5s 171ms/step - loss: 0.7545 - acc: 0.7400 - val_loss: 2.8729 - val_acc: 0.3000\n",
      "Epoch 15/15\n",
      "30/30 [==============================] - 5s 171ms/step - loss: 0.7165 - acc: 0.7391 - val_loss: 2.9005 - val_acc: 0.3444\n"
     ]
    },
    {
     "data": {
      "image/png": "[encoded data removed]",
      "text/plain": [
       "<Figure size 432x288 with 1 Axes>"
      ]
     },
     "metadata": {
      "needs_background": "light"
     },
     "output_type": "display_data"
    },
    {
     "data": {
      "image/png": "[encoded data removed]",
      "text/plain": [
       "<Figure size 432x288 with 1 Axes>"
      ]
     },
     "metadata": {
      "needs_background": "light"
     },
     "output_type": "display_data"
    }
   ],
   "source": [
    "from tensorflow.python.keras import optimizers\n",
    "\n",
    "class_ = [[\"oleg_class\"], [\"krotov_class\"], [\"misha_class\"],\n",
    "          [\"natasha_class\"], [\"sitnikov_class\"], [\"yakovenko_class\"]]\n",
    "\n",
    "Adam = optimizers.Adam(lr=0.01,\n",
    "                       beta_1=0.9,\n",
    "                       beta_2=0.999,\n",
    "                       epsilon=None,\n",
    "                       decay=0.5,\n",
    "                       amsgrad=True)\n",
    "\n",
    "\n",
    "\n",
    "model = Sequential()\n",
    "model.add(Conv2D(32, (3, 3), input_shape=(300, 300, 3)))\n",
    "model.add(Activation('relu'))\n",
    "model.add(MaxPooling2D(pool_size=(2, 2)))\n",
    "model.add(Dropout(0.2))\n",
    "\n",
    "model.add(Conv2D(64, (3, 3)))\n",
    "model.add(Activation('relu'))\n",
    "model.add(MaxPooling2D(pool_size=(2, 2)))\n",
    "model.add(Dropout(0.2))\n",
    "\n",
    "\n",
    "\n",
    "# model.add(Conv2D(600, (3, 3)))\n",
    "# model.add(Activation('relu'))\n",
    "# model.add(MaxPooling2D(pool_size=(2, 2)))\n",
    "# model.add(Dropout(0.3))\n",
    "\n",
    "model.add(Flatten())\n",
    "model.add(Dense(80))\n",
    "model.add(Activation('relu'))\n",
    "model.add(Dropout(0.5))\n",
    "model.add(Dense(6))\n",
    "model.add(Activation('softmax'))\n",
    "\n",
    "model.compile(loss='categorical_crossentropy',\n",
    "              optimizer=Adam,\n",
    "              metrics=['acc'])\n",
    "\n",
    "\n",
    "history = model.fit_generator(train_generator,\n",
    "                              steps_per_epoch=1800/60,\n",
    "                              epochs=15,\n",
    "                              validation_data=validation_generator,\n",
    "                              validation_steps=3)\n",
    "print_plt(history = history)\n",
    "\n",
    "\n"
   ]
  },
  {
   "cell_type": "code",
   "execution_count": 8,
   "metadata": {
    "scrolled": true
   },
   "outputs": [
    {
     "name": "stdout",
     "output_type": "stream",
     "text": [
      "natasha_t2.jpg ['krotov_class'] 89.14%\n",
      "kr1.jpeg ['misha_class'] 99.89%\n",
      "natasha_t1.jpg ['misha_class'] 55.52%\n",
      "kr2.jpeg ['krotov_class'] 69.43%\n",
      "sit2.jpg ['krotov_class'] 90.40%\n",
      "ya2.jpg ['krotov_class'] 44.36%\n",
      "mish2.jpg ['misha_class'] 76.89%\n",
      "mish.jpg ['misha_class'] 63.15%\n",
      "ya1.jpg ['krotov_class'] 73.04%\n",
      "ol2.jpg ['krotov_class'] 65.91%\n",
      "ol1.jpg ['yakovenko_class'] 26.53%\n",
      "sit1.jpg ['sitnikov_class'] 33.13%\n"
     ]
    }
   ],
   "source": [
    "img_pred(path_pred = \"npi_aug/for_test/\",\n",
    "         class_list = class_)"
   ]
  },
  {
   "cell_type": "code",
   "execution_count": 34,
   "metadata": {},
   "outputs": [
    {
     "name": "stdout",
     "output_type": "stream",
     "text": [
      "a4gKUB9Q1VE.jpg ['misha_class'] 91.35%\n",
      "natasha_t1.jpg ['oleg_class'] 91.57%\n",
      "ZlQ8Jq7Vky0.jpg ['misha_class'] 76.04%\n",
      "mish2.jpg ['misha_class'] 100.00%\n",
      "mish.jpg ['misha_class'] 98.57%\n",
      "2.png ['natasha_class'] 99.99%\n",
      "3.png ['sitnikov_class'] 100.00%\n",
      "sit1.jpg ['sitnikov_class'] 100.00%\n"
     ]
    }
   ],
   "source": [
    "img_pred()"
   ]
  },
  {
   "cell_type": "code",
   "execution_count": 36,
   "metadata": {},
   "outputs": [
    {
     "name": "stdout",
     "output_type": "stream",
     "text": [
      "a4gKUB9Q1VE.jpg ['oleg_class'] 67.77%\n",
      "natasha_t1.jpg ['oleg_class'] 97.37%\n",
      "ZlQ8Jq7Vky0.jpg ['oleg_class'] 91.38%\n",
      "mish2.jpg ['misha_class'] 90.65%\n",
      "mish.jpg ['misha_class'] 99.92%\n",
      "2.png ['natasha_class'] 100.00%\n",
      "3.png ['sitnikov_class'] 100.00%\n",
      "sit1.jpg ['oleg_class'] 99.97%\n"
     ]
    }
   ],
   "source": [
    "img_pred()"
   ]
  },
  {
   "cell_type": "code",
   "execution_count": 39,
   "metadata": {},
   "outputs": [
    {
     "name": "stdout",
     "output_type": "stream",
     "text": [
      "a4gKUB9Q1VE.jpg ['sitnikov_class'] 79.39%\n",
      "natasha_t1.jpg ['sitnikov_class'] 99.00%\n",
      "ZlQ8Jq7Vky0.jpg ['misha_class'] 99.11%\n",
      "mish2.jpg ['misha_class'] 99.91%\n",
      "mish.jpg ['misha_class'] 99.11%\n",
      "2.png ['natasha_class'] 99.97%\n",
      "3.png ['sitnikov_class'] 100.00%\n",
      "sit1.jpg ['sitnikov_class'] 78.10%\n"
     ]
    }
   ],
   "source": [
    "img_pred()"
   ]
  },
  {
   "cell_type": "code",
   "execution_count": 6,
   "metadata": {},
   "outputs": [
    {
     "name": "stdout",
     "output_type": "stream",
     "text": [
      "a4gKUB9Q1VE.jpg ['oleg_class'] 99.98%\n",
      "natasha_t1.jpg ['oleg_class'] 99.85%\n",
      "ZlQ8Jq7Vky0.jpg ['misha_class'] 81.80%\n",
      "mish2.jpg ['oleg_class'] 52.64%\n",
      "mish.jpg ['misha_class'] 100.00%\n",
      "2.png ['natasha_class'] 99.90%\n",
      "3.png ['sitnikov_class'] 100.00%\n",
      "sit1.jpg ['oleg_class'] 88.20%\n"
     ]
    }
   ],
   "source": [
    "img_pred()"
   ]
  },
  {
   "cell_type": "code",
   "execution_count": 9,
   "metadata": {},
   "outputs": [
    {
     "data": {
      "image/png": "[encoded data removed]",
      "text/plain": [
       "<Figure size 432x288 with 1 Axes>"
      ]
     },
     "metadata": {
      "needs_background": "light"
     },
     "output_type": "display_data"
    },
    {
     "data": {
      "image/png": "[encoded data removed]",
      "text/plain": [
       "<Figure size 432x288 with 1 Axes>"
      ]
     },
     "metadata": {
      "needs_background": "light"
     },
     "output_type": "display_data"
    }
   ],
   "source": [
    "print_plt(history = history)"
   ]
  },
  {
   "cell_type": "code",
   "execution_count": null,
   "metadata": {},
   "outputs": [],
   "source": []
  }
 ],
 "metadata": {
  "kernelspec": {
   "display_name": "Python 3",
   "language": "python",
   "name": "python3"
  },
  "language_info": {
   "codemirror_mode": {
    "name": "ipython",
    "version": 3
   },
   "file_extension": ".py",
   "mimetype": "text/x-python",
   "name": "python",
   "nbconvert_exporter": "python",
   "pygments_lexer": "ipython3",
   "version": "3.5.6"
  }
 },
 "nbformat": 4,
 "nbformat_minor": 2
}
